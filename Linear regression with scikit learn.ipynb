{
 "cells": [
  {
   "cell_type": "markdown",
   "id": "13631177",
   "metadata": {},
   "source": [
    "## 1. Simple Linear regression"
   ]
  },
  {
   "cell_type": "markdown",
   "id": "9f10ba33",
   "metadata": {},
   "source": [
    "Step 1: Import packages and classes\n"
   ]
  },
  {
   "cell_type": "code",
   "execution_count": 1,
   "id": "d0a98a96",
   "metadata": {},
   "outputs": [],
   "source": [
    "import numpy as np\n",
    "from sklearn.linear_model import LinearRegression"
   ]
  },
  {
   "cell_type": "markdown",
   "id": "0aed8177",
   "metadata": {},
   "source": [
    "Step 2: Provide data\n"
   ]
  },
  {
   "cell_type": "code",
   "execution_count": 2,
   "id": "1a28be21",
   "metadata": {},
   "outputs": [
    {
     "data": {
      "text/plain": [
       "(array([[ 5],\n",
       "        [15],\n",
       "        [25],\n",
       "        [35],\n",
       "        [45],\n",
       "        [55]]),\n",
       " array([ 5, 20, 14, 32, 22, 38]))"
      ]
     },
     "execution_count": 2,
     "metadata": {},
     "output_type": "execute_result"
    }
   ],
   "source": [
    "x = np.array([5, 15, 25, 35, 45, 55]).reshape((-1, 1))\n",
    "y = np.array([5, 20, 14, 32, 22, 38])\n",
    "x, y"
   ]
  },
  {
   "cell_type": "markdown",
   "id": "6ec5fe3c",
   "metadata": {},
   "source": [
    "Step 3: Create a model and fit it\n"
   ]
  },
  {
   "cell_type": "code",
   "execution_count": 3,
   "id": "f6553c96",
   "metadata": {},
   "outputs": [],
   "source": [
    "model = LinearRegression()\n",
    "model.fit(x, y)\n",
    "model = LinearRegression().fit(x, y)"
   ]
  },
  {
   "cell_type": "markdown",
   "id": "b64458a3",
   "metadata": {},
   "source": [
    "Step 4: Get results\n"
   ]
  },
  {
   "cell_type": "code",
   "execution_count": 4,
   "id": "a4e895d6",
   "metadata": {},
   "outputs": [
    {
     "name": "stdout",
     "output_type": "stream",
     "text": [
      "coefficient of determination: 0.715875613747954\n"
     ]
    }
   ],
   "source": [
    "# obtain the coefficient of determination, R², with .score() of model:\n",
    "r_sq = model.score(x, y)\n",
    "print(f\"coefficient of determination: {r_sq}\")"
   ]
  },
  {
   "cell_type": "code",
   "execution_count": 5,
   "id": "a307d79b",
   "metadata": {},
   "outputs": [
    {
     "name": "stdout",
     "output_type": "stream",
     "text": [
      "intercept: 5.633333333333329\n",
      "slope: [0.54]\n"
     ]
    }
   ],
   "source": [
    "# The attributes of model are .intercept_, which represents the\n",
    "# coefficient b₀, and .coef_, which represents b₁:\n",
    "print(f\"intercept: {model.intercept_}\")\n",
    "print(f\"slope: {model.coef_}\")"
   ]
  },
  {
   "cell_type": "markdown",
   "id": "8d583525",
   "metadata": {},
   "source": [
    "Step 5: Predict response\n"
   ]
  },
  {
   "cell_type": "code",
   "execution_count": 6,
   "id": "6b1fc4db",
   "metadata": {},
   "outputs": [
    {
     "name": "stdout",
     "output_type": "stream",
     "text": [
      "predicted response:\n",
      "[ 8.33333333 13.73333333 19.13333333 24.53333333 29.93333333 35.33333333]\n"
     ]
    }
   ],
   "source": [
    "y_pred = model.predict(x)\n",
    "print(f\"predicted response:\\n{y_pred}\")"
   ]
  },
  {
   "cell_type": "code",
   "execution_count": 7,
   "id": "d2e224c6",
   "metadata": {},
   "outputs": [
    {
     "name": "stdout",
     "output_type": "stream",
     "text": [
      "predicted response:\n",
      "[[ 8.33333333]\n",
      " [13.73333333]\n",
      " [19.13333333]\n",
      " [24.53333333]\n",
      " [29.93333333]\n",
      " [35.33333333]]\n"
     ]
    }
   ],
   "source": [
    "# also you get the predicted response\n",
    "y_pred = model.intercept_ + model.coef_ * x\n",
    "print(f\"predicted response:\\n{y_pred}\")"
   ]
  },
  {
   "cell_type": "code",
   "execution_count": 8,
   "id": "41438b13",
   "metadata": {},
   "outputs": [
    {
     "data": {
      "text/plain": [
       "array([[0],\n",
       "       [1],\n",
       "       [2],\n",
       "       [3],\n",
       "       [4]])"
      ]
     },
     "execution_count": 8,
     "metadata": {},
     "output_type": "execute_result"
    }
   ],
   "source": [
    "# predictions on inputs\n",
    "x_new = np.arange(5).reshape((-1, 1))\n",
    "x_new"
   ]
  },
  {
   "cell_type": "code",
   "execution_count": 9,
   "id": "a1308623",
   "metadata": {},
   "outputs": [
    {
     "data": {
      "text/plain": [
       "array([5.63333333, 6.17333333, 6.71333333, 7.25333333, 7.79333333])"
      ]
     },
     "execution_count": 9,
     "metadata": {},
     "output_type": "execute_result"
    }
   ],
   "source": [
    "y_new = model.predict(x_new)\n",
    "y_new"
   ]
  },
  {
   "cell_type": "markdown",
   "id": "6fc31204",
   "metadata": {},
   "source": [
    "## 2. Multiple Linear Regression"
   ]
  },
  {
   "cell_type": "markdown",
   "id": "b6e1f254",
   "metadata": {},
   "source": [
    "Steps 1 and 2: Import packages and classes, and provide data\n"
   ]
  },
  {
   "cell_type": "code",
   "execution_count": 10,
   "id": "f7ac7198",
   "metadata": {},
   "outputs": [
    {
     "name": "stderr",
     "output_type": "stream",
     "text": [
      "C:\\Users\\Admin\\AppData\\Local\\Temp\\ipykernel_7648\\3724308309.py:7: VisibleDeprecationWarning: Creating an ndarray from ragged nested sequences (which is a list-or-tuple of lists-or-tuples-or ndarrays with different lengths or shapes) is deprecated. If you meant to do this, you must specify 'dtype=object' when creating the ndarray.\n",
      "  x, y = np.array(x), np.array(y)\n"
     ]
    },
    {
     "data": {
      "text/plain": [
       "(array([list([0, 1]), list([5, 1]), list([15, 2]), list([25, 5]),\n",
       "        list([35, 11]), list([45, 15]), list([55])], dtype=object),\n",
       " array([ 4,  5, 20, 14, 32, 22, 38, 43]))"
      ]
     },
     "execution_count": 10,
     "metadata": {},
     "output_type": "execute_result"
    }
   ],
   "source": [
    "import numpy as np\n",
    "from sklearn.linear_model import LinearRegression\n",
    "x = [\n",
    " [0, 1], [5, 1], [15, 2], [25, 5], [35, 11], [45, 15], [55]\n",
    " ]\n",
    "y = [4, 5, 20, 14, 32, 22, 38, 43]\n",
    "x, y = np.array(x), np.array(y)\n",
    "x,y"
   ]
  },
  {
   "cell_type": "markdown",
   "id": "1bbae88b",
   "metadata": {},
   "source": [
    "Step 3: Create a model and fit it\n"
   ]
  },
  {
   "cell_type": "code",
   "execution_count": null,
   "id": "2a8bc95a",
   "metadata": {},
   "outputs": [],
   "source": [
    "model = LinearRegression().fit(x, y)"
   ]
  },
  {
   "cell_type": "markdown",
   "id": "549eb659",
   "metadata": {},
   "source": [
    "Step 4: Get results\n"
   ]
  },
  {
   "cell_type": "code",
   "execution_count": null,
   "id": "cdb1d03d",
   "metadata": {},
   "outputs": [],
   "source": [
    "r_sq = model.score(x, y)\n",
    "print(f\"coefficient of determination: {r_sq}\")\n",
    "#     output: coefficient of determination: 0.8615939258756776\n",
    "\n",
    "print(f\"intercept: {model.intercept_}\")\n",
    "# output:intercept: 5.52257927519819\n",
    "\n",
    "print(f\"coefficients: {model.coef_}\")\n",
    "# output: coefficients: [0.44706965 0.25502548]"
   ]
  },
  {
   "cell_type": "markdown",
   "id": "d814456b",
   "metadata": {},
   "source": [
    "Step 5: Predict response\n"
   ]
  },
  {
   "cell_type": "code",
   "execution_count": null,
   "id": "c997c2c9",
   "metadata": {},
   "outputs": [],
   "source": [
    "y_pred = model.predict(x)\n",
    "print(f\"predicted response:\\n{y_pred}\")\n",
    "# or\n",
    "y_pred = model.intercept_ + np.sum(model.coef_ * x, axis=1)\n",
    "print(f\"predicted response:\\n{y_pred}\")\n",
    "\n",
    "# output:\n",
    "# predicted response:\n",
    "# [ 5.77760476 8.012953 12.73867497 17.9744479 23.97529728 29.4660957\n",
    "# 38.78227633 41.27265006]"
   ]
  },
  {
   "cell_type": "code",
   "execution_count": null,
   "id": "86a43c32",
   "metadata": {},
   "outputs": [],
   "source": [
    "# Predictions\n",
    "x_new = np.arange(10).reshape((-1, 2))\n",
    "\n",
    "y_new = model.predict(x_new)\n",
    "x_new, y_new\n",
    "\n",
    "# Output\n",
    "# array([[0, 1],\n",
    "# [2, 3],\n",
    "# [4, 5],\n",
    "# [6, 7],\n",
    "# [8, 9]])\n",
    "\n",
    "# array([ 5.77760476, 7.18179502, 8.58598528, 9.99017554, 11.3943658 ])"
   ]
  },
  {
   "cell_type": "markdown",
   "id": "29bc4a23",
   "metadata": {},
   "source": [
    "## 3. Polynomial Regression With scikitlearn"
   ]
  },
  {
   "cell_type": "markdown",
   "id": "9e50408e",
   "metadata": {},
   "source": [
    "Step 1: Import packages and classes\n"
   ]
  },
  {
   "cell_type": "code",
   "execution_count": 15,
   "id": "28f6bd5d",
   "metadata": {},
   "outputs": [],
   "source": [
    "import numpy as np\n",
    "from sklearn.linear_model import LinearRegression\n",
    "from sklearn.preprocessing import PolynomialFeatures"
   ]
  },
  {
   "cell_type": "markdown",
   "id": "c89afdc8",
   "metadata": {},
   "source": [
    "Step 2a: Provide data\n"
   ]
  },
  {
   "cell_type": "code",
   "execution_count": 17,
   "id": "39deeea2",
   "metadata": {},
   "outputs": [],
   "source": [
    "x = np.array([5, 15, 25, 35, 45, 55]).reshape((-1, 1))\n",
    "y = np.array([15, 11, 2, 8, 25, 32])"
   ]
  },
  {
   "cell_type": "markdown",
   "id": "3ab22b45",
   "metadata": {},
   "source": [
    "Step 2b: Transform input data\n"
   ]
  },
  {
   "cell_type": "code",
   "execution_count": 23,
   "id": "73f5815a",
   "metadata": {},
   "outputs": [
    {
     "data": {
      "text/plain": [
       "PolynomialFeatures(include_bias=False)"
      ]
     },
     "execution_count": 23,
     "metadata": {},
     "output_type": "execute_result"
    }
   ],
   "source": [
    "transformer = PolynomialFeatures(degree=2, include_bias=False)\n",
    "transformer.fit(x)"
   ]
  },
  {
   "cell_type": "code",
   "execution_count": 24,
   "id": "de59450d",
   "metadata": {},
   "outputs": [],
   "source": [
    "x_ = transformer.transform(x)"
   ]
  },
  {
   "cell_type": "code",
   "execution_count": 32,
   "id": "7bbe4abe",
   "metadata": {},
   "outputs": [
    {
     "data": {
      "text/plain": [
       "<bound method TransformerMixin.fit_transform of PolynomialFeatures(include_bias=False)>"
      ]
     },
     "execution_count": 32,
     "metadata": {},
     "output_type": "execute_result"
    }
   ],
   "source": [
    "x_ = PolynomialFeatures(degree=2, include_bias=False).fit_transform\n",
    "x_"
   ]
  },
  {
   "cell_type": "markdown",
   "id": "8f425097",
   "metadata": {},
   "source": [
    "Step 3: Create a model and fit it\n"
   ]
  },
  {
   "cell_type": "code",
   "execution_count": null,
   "id": "2f292d41",
   "metadata": {},
   "outputs": [],
   "source": [
    "model = LinearRegression().fit(x_, y)"
   ]
  },
  {
   "cell_type": "code",
   "execution_count": null,
   "id": "3c780a88",
   "metadata": {},
   "outputs": [],
   "source": []
  }
 ],
 "metadata": {
  "kernelspec": {
   "display_name": "Python 3 (ipykernel)",
   "language": "python",
   "name": "python3"
  },
  "language_info": {
   "codemirror_mode": {
    "name": "ipython",
    "version": 3
   },
   "file_extension": ".py",
   "mimetype": "text/x-python",
   "name": "python",
   "nbconvert_exporter": "python",
   "pygments_lexer": "ipython3",
   "version": "3.9.12"
  }
 },
 "nbformat": 4,
 "nbformat_minor": 5
}
